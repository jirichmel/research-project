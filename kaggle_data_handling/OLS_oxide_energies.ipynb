{
 "cells": [
  {
   "cell_type": "code",
   "execution_count": null,
   "metadata": {},
   "outputs": [],
   "source": [
    "import numpy as np\n",
    "import pandas as pd\n",
    "from sklearn import linear_model"
   ]
  },
  {
   "cell_type": "code",
   "execution_count": null,
   "metadata": {},
   "outputs": [],
   "source": [
    "# Ordinary Least Squares to get a more accurate value of formation energies of input oxides in the formation energy calculation:\n",
    "ols = linear_model.LinearRegression(fit_intercept=False)\n",
    "df_general = pd.read_csv(\"../train/relaxation/general.csv\")\n",
    "df = pd.read_csv(\"../train.csv/train.csv\") # load the kaggle train dataset\n",
    "x = df[\"formation_energy_ev_natom\"] # load the kaggle formation energy\n",
    "natoms = df[\"number_of_total_atoms\"]\n",
    "x = x.drop([463, 2188, 125, 1214, 352, 307, 530, 2318, 2369])\n",
    "x = x.to_numpy()\n",
    "natoms = natoms.drop([463, 2188, 125, 1214, 352, 307, 530, 2318, 2369])\n",
    "natoms = natoms.to_numpy()\n",
    "df = pd.read_csv(\"../train/final/energy.csv\") # load our energy data\n",
    "y = df[\"formation_energy_ev_natom\"].to_numpy() # the total energy is stored here!!\n",
    "assert len(y)==len(x),\"The lengths don't match.\"\n",
    "b = np.divide(y,natoms) - 0.4*x # the right side\n",
    "A = df_general[[\"percent_atom_al\", \"percent_atom_ga\", \"percent_atom_in\"]].to_numpy()\n",
    "ols.fit(A,b)\n",
    "[x, y, z] = ols.coef_\n",
    "print(\"The formation energies of the oxides calculated using OLS are:\",x,y,z)\n",
    "f = open(\"../OLS_oxide_energies\", \"w\")\n",
    "f.write(\"# The formation energies of the oxides calculated using OLS: E_Al2O3,E_Ga2O3,E_In2O3\\n\")\n",
    "f.write(\",\".join([str(x),str(y),str(z)])+\"\\n\")\n",
    "f.close()"
   ]
  }
 ],
 "metadata": {
  "kernelspec": {
   "display_name": "Python 3",
   "language": "python",
   "name": "python3"
  },
  "language_info": {
   "codemirror_mode": {
    "name": "ipython",
    "version": 3
   },
   "file_extension": ".py",
   "mimetype": "text/x-python",
   "name": "python",
   "nbconvert_exporter": "python",
   "pygments_lexer": "ipython3",
   "version": "3.6.6"
  }
 },
 "nbformat": 4,
 "nbformat_minor": 4
}
